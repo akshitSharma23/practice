{
 "cells": [
  {
   "cell_type": "code",
   "execution_count": 3,
   "id": "535b7e83",
   "metadata": {},
   "outputs": [
    {
     "name": "stdout",
     "output_type": "stream",
     "text": [
      "[100, 102, 104, 106, 108, 110, 112, 114, 116, 118, 120, 122, 124, 126, 128, 130, 132, 134, 136, 138, 140, 142, 144, 146, 148, 150, 152, 154, 156, 158, 160, 162, 164, 166, 168, 170, 172, 174, 176, 178, 180, 182, 184, 186, 188, 190, 192, 194, 196, 198, 200]\n"
     ]
    }
   ],
   "source": [
    "n = [i for i in range(100, 201) if(i%2) == 0]\n",
    "print(n)"
   ]
  },
  {
   "cell_type": "code",
   "execution_count": 5,
   "id": "a6d25362",
   "metadata": {},
   "outputs": [
    {
     "name": "stdout",
     "output_type": "stream",
     "text": [
      "['ALPHA', 'BETA', 'THETA']\n"
     ]
    }
   ],
   "source": [
    "n=[\"alpha\",\"beta\",\"theta\"]\n",
    "n=[i.upper() for i in n ]\n",
    "print(n)"
   ]
  },
  {
   "cell_type": "code",
   "execution_count": 8,
   "id": "6bc8c0b7",
   "metadata": {},
   "outputs": [
    {
     "name": "stdout",
     "output_type": "stream",
     "text": [
      "['gamil.com', 'outlook.com', 'yahoo.com']\n"
     ]
    }
   ],
   "source": [
    "email=[\"abc@gamil.com\",\"abc@outlook.com\",\"abc@yahoo.com\"]\n",
    "service=[i.split(\"@\")[1] for i in email]\n",
    "print(service)"
   ]
  },
  {
   "cell_type": "code",
   "execution_count": 16,
   "id": "42dfdbae",
   "metadata": {},
   "outputs": [
    {
     "name": "stdout",
     "output_type": "stream",
     "text": [
      "['pjqowkn', 'zowdkcm', 'yjneis']\n"
     ]
    }
   ],
   "source": [
    "word= {\"iokwnckwn\",\"kmasmp\",\"zowdkcm\",\"oiwjepo\",\"pjqowkn\",\"yjneis\"}\n",
    "s=[i for i in word if(i[0] in \"pqrstuvwxyz\")]\n",
    "print(s)"
   ]
  },
  {
   "cell_type": "code",
   "execution_count": 18,
   "id": "26c015d0",
   "metadata": {},
   "outputs": [
    {
     "name": "stdout",
     "output_type": "stream",
     "text": [
      "['2016001', '2016100', '2016210']\n"
     ]
    }
   ],
   "source": [
    "# Given empids = [2017001', '2016001', '2017002', '2017009', '2016100, '2016210]\n",
    "# using comprehensions find no of emps joined in ear 2016\n",
    "                \n",
    "empids = ['2017001', '2016001', '2017002', '2017009', '2016100', '2016210']\n",
    "emp=[i for i in empids if(i[:4]==\"2016\")]\n",
    "print(emp)"
   ]
  },
  {
   "cell_type": "code",
   "execution_count": 28,
   "id": "33634e59",
   "metadata": {},
   "outputs": [
    {
     "name": "stdout",
     "output_type": "stream",
     "text": [
      "['2001001', '1998010', '1995080']\n"
     ]
    }
   ],
   "source": [
    "# I = ['2001001', '1998010, '2010111', '2010112, '2011002, '1995080*, '2015021', '2016003]\n",
    "# generate list of ppl joined between yrs >=1995 and <=2005\n",
    "\n",
    "I = ['2001001', '1998010', '2010111', '2010112', '2011002', '1995080', '2015021', '2016003']\n",
    "lst=[i for i in I if(int(i[:4])>=1995 and int(i[:4])<=2005)]\n",
    "print(lst)"
   ]
  },
  {
   "cell_type": "code",
   "execution_count": 31,
   "id": "e3b4846e",
   "metadata": {},
   "outputs": [
    {
     "name": "stdout",
     "output_type": "stream",
     "text": [
      "[3, 13, 23, 30, 31, 32, 33, 34, 35, 36, 37, 38, 39, 43, 53, 63, 73, 83, 93, 103, 113, 123, 130, 131, 132, 133, 134, 135, 136, 137, 138, 139, 143, 153, 163, 173, 183, 193]\n"
     ]
    }
   ],
   "source": [
    "# Find all of the numbers from 1-200 that have a 3 in them\n",
    "\n",
    "lst=[i for i in range(1,200) if(\"3\" in str(i))]\n",
    "print(lst)"
   ]
  },
  {
   "cell_type": "code",
   "execution_count": 35,
   "id": "88c5f50c",
   "metadata": {},
   "outputs": [
    {
     "name": "stdout",
     "output_type": "stream",
     "text": [
      "h s  gd by\n"
     ]
    }
   ],
   "source": [
    "# Remove all of the vowels in a string\n",
    "\n",
    "str=\"he is a good boy\"\n",
    "str=\"\".join([i for i in str if(i not in \"aeiou\")])\n",
    "print(str)"
   ]
  },
  {
   "cell_type": "code",
   "execution_count": 40,
   "id": "9246c40b",
   "metadata": {},
   "outputs": [
    {
     "name": "stdout",
     "output_type": "stream",
     "text": [
      "['qwe', 'are']\n"
     ]
    }
   ],
   "source": [
    "# Find all of the words in a string that have less than 5 letters\n",
    "\n",
    "str=\"qwe qwrwscdc oknsd are owdncjwdkv owidfnweok oiwdnc klamc oasknfqeoi xzkfdnfpm\"\n",
    "str=[i for i in str.split(\" \") if(len(i)<5)]\n",
    "print(str)"
   ]
  },
  {
   "cell_type": "code",
   "execution_count": 46,
   "id": "fd415ac4",
   "metadata": {},
   "outputs": [
    {
     "name": "stdout",
     "output_type": "stream",
     "text": [
      "No I'ma what you call this Roof off two dogs\n"
     ]
    }
   ],
   "source": [
    "# In an input string remove words that contain an 'e'\n",
    "\n",
    "str=\"No more games I'ma change what you call rage Tear this Roof off like two dogs caged\"\n",
    "str=\" \".join([i for i in str.split() if(\"e\" not in i)])\n",
    "print(str)\n"
   ]
  },
  {
   "cell_type": "code",
   "execution_count": 47,
   "id": "5c3074a8",
   "metadata": {},
   "outputs": [
    {
     "name": "stdout",
     "output_type": "stream",
     "text": [
      "[2, 3, 4, 5, 6, 7, 8, 9, 10, 12, 14, 15, 16, 18, 20, 21, 22, 24, 25, 26, 27, 28, 30, 32, 33, 34, 35, 36, 38, 39, 40, 42, 44, 45, 46, 48, 49, 50, 51, 52, 54, 55, 56, 57, 58, 60, 62, 63, 64, 65, 66, 68, 69, 70, 72, 74, 75, 76, 77, 78, 80, 81, 82, 84, 85, 86, 87, 88, 90, 91, 92, 93, 94, 95, 96, 98, 99, 100, 102, 104, 105, 106, 108, 110, 111, 112, 114, 115, 116, 117, 118, 119, 120, 122, 123, 124, 125, 126, 128, 129, 130, 132, 133, 134, 135, 136, 138, 140, 141, 142, 144, 145, 146, 147, 148, 150, 152, 153, 154, 155, 156, 158, 159, 160, 161, 162, 164, 165, 166, 168, 170, 171, 172, 174, 175, 176, 177, 178, 180, 182, 183, 184, 185, 186, 188, 189, 190, 192, 194, 195, 196, 198, 200]\n"
     ]
    }
   ],
   "source": [
    "# Find all of the numbers from 1-200 that are divisible by any single digit besides 1 (2-9)\n",
    "\n",
    "n= [num for num in range(1, 201) if any(num % i == 0 for i in range(2, 10))]\n",
    "print(n)"
   ]
  },
  {
   "cell_type": "code",
   "execution_count": 49,
   "id": "5db6fa45",
   "metadata": {},
   "outputs": [
    {
     "name": "stdout",
     "output_type": "stream",
     "text": [
      "['abc@gamil_com', 'pqr@outlook_com', 'xyz@yahoo_com']\n"
     ]
    }
   ],
   "source": [
    "# Given a list of email addresses, replace all occurrences \".\" of with \"_\" in the user name\n",
    "\n",
    "email=[\"abc@gamil.com\",\"pqr@outlook.com\",\"xyz@yahoo.com\"]\n",
    "email=[i.replace(\".\",\"_\") for i in email]\n",
    "print(email)"
   ]
  },
  {
   "cell_type": "code",
   "execution_count": 51,
   "id": "623ebc11",
   "metadata": {},
   "outputs": [
    {
     "name": "stdout",
     "output_type": "stream",
     "text": [
      "['abed 1.txt', 'abed 2.txt', 'abed 3.txt', 'abed 4.txt', 'abed 5.txt']\n"
     ]
    }
   ],
   "source": [
    "# Generate a list of file names like prefix no.txt, where prefix='abed' and no takes values from 1 to 5\n",
    "\n",
    "\n",
    "prefix = 'abed'\n",
    "files = [f\"{prefix} {i}.txt\" for i in range(1, 6)]\n",
    "print(files)"
   ]
  },
  {
   "cell_type": "code",
   "execution_count": 94,
   "id": "a375be2b",
   "metadata": {},
   "outputs": [],
   "source": [
    "# Given a string as follows:\n",
    "# inp=\"In an input string remove words that contain Generate a list of file names like Find all of the words in a string that have less than\"\n",
    "# create list of sets as follows:\n",
    "# expected res = [contains_all_words_starting _with_a), {contains_all words_starting_with_b).\n",
    "# {contains_all_words_starting_with_c)..{contains_all_words_starting_with_dY\n",
    "# Example: ['an', 'all', ...J, 0. {'create', 'contain l]\n",
    "\n",
    "\n",
    "\n",
    "inp = \"In an input string remove words that contain Generate a list of file names like Find all of the words in a string that have less than\"\n",
    "\n",
    "# Split the input string into words\n",
    "words = inp.split()\n",
    "\n",
    "# Create a list of empty sets for each letter\n",
    "sets_list = [set() for _ in range(26)]  # 26 letters in the alphabet\n",
    "\n",
    "# Iterate through the words and add them to the appropriate set based on their starting letter\n",
    "for word in words:\n",
    "    if word.isalpha() and len(word) > 0:\n",
    "        starting_letter = word[0].lower()\n",
    "        sets_list[ord(starting_letter) - ord('a')].add(word.lower())\n",
    "\n",
    "# Display the list of sets\n",
    "for idx, word_set in enumerate(sets_list):\n",
    "    print(f\"Words starting with '{chr(ord('a') + idx)}': {word_set}\")\n"
   ]
  },
  {
   "cell_type": "code",
   "execution_count": 62,
   "id": "e11ffcd7",
   "metadata": {},
   "outputs": [
    {
     "name": "stdout",
     "output_type": "stream",
     "text": [
      "[15, 2022]\n"
     ]
    }
   ],
   "source": [
    "# Create a list of numbers embedded in an input string\n",
    "# Let inp=\"Today is 15 day of Febr. The year is 2022 and is expected tolde a better vear for all\n",
    "# expected output = [15, 2022]\n",
    "\n",
    "inp=\"Today is 15 day of Febr. The year is 2022 and is expected tolde a better vear for all\"\n",
    "lst=[int(i) for i in inp.split(\" \") if(i.isdigit())]\n",
    "print(lst)\n"
   ]
  },
  {
   "cell_type": "code",
   "execution_count": 66,
   "id": "9a98831a",
   "metadata": {},
   "outputs": [
    {
     "name": "stdout",
     "output_type": "stream",
     "text": [
      "Today 15 of Febr. The 2022 and expected a better vear for all\n"
     ]
    }
   ],
   "source": [
    "# Remove words that are plurals in an input string, assumption that all words ending with are plurals\n",
    "\n",
    "inp=\"Today is 15 days of Febr. The years is 2022 and is expected tolds a better vear for all\"\n",
    "inp=\" \".join([i for i in inp.split(\" \") if(i[len(i)-1]!=\"s\")])\n",
    "print(inp)"
   ]
  },
  {
   "cell_type": "code",
   "execution_count": 68,
   "id": "73c92bcc",
   "metadata": {},
   "outputs": [
    {
     "name": "stdout",
     "output_type": "stream",
     "text": [
      "{'1996', '2021', '2020', '2022'}\n"
     ]
    }
   ],
   "source": [
    "# Assume that a list contains dates in format dd/mm/yyyy\n",
    "# Create a collection of unique years from the input\n",
    "\n",
    "\n",
    "dates = [\"25/12/2021\", \"15/03/2020\", \"10/05/2021\", \"07/09/2020\", \"30/11/2022\",\"30/11/1996\"]\n",
    "\n",
    "\n",
    "unique = set()\n",
    "for date in dates:\n",
    "    unique.add(date.split('/')[2])\n",
    "\n",
    "print(unique)\n"
   ]
  },
  {
   "cell_type": "code",
   "execution_count": 71,
   "id": "0a394eed",
   "metadata": {},
   "outputs": [
    {
     "name": "stdout",
     "output_type": "stream",
     "text": [
      "['99999999991', '9898989898', '8787878787', '8888888888', '77777777771']\n"
     ]
    }
   ],
   "source": [
    "# Consider following input :\n",
    "# emps = [['Amit', '99999999991]. [Gaurav', '9898989898], ['Kanika', '8787878787], ['Nitish',\n",
    "# '8888888888], ['Archna', '77777777771\n",
    "# Create a list of all the mobile nos from this input\n",
    "\n",
    "emps = [['Amit', '99999999991'],['Gaurav', '9898989898'], ['Kanika', '8787878787'], ['Nitish','8888888888'], ['Archna', '77777777771']]\n",
    "numbers=[i[1] for i in emps]\n",
    "print(numbers)"
   ]
  },
  {
   "cell_type": "code",
   "execution_count": 73,
   "id": "8d1e3821",
   "metadata": {},
   "outputs": [
    {
     "name": "stdout",
     "output_type": "stream",
     "text": [
      "[7, 21, 49, 63, 77, 91, 119, 133, 147, 161, 189, 203, 217, 231, 259, 273, 287, 301, 329, 343, 357, 371, 399]\n",
      "[7, 21, 49, 63, 77, 91, 119, 133, 147, 161, 189, 203, 217, 231, 259, 273, 287, 301, 329, 343, 357, 371, 399]\n"
     ]
    }
   ],
   "source": [
    "# Create a list of all odd nos in range 1-400 that are divisible by 7 and not divisible by 5\n",
    "\n",
    "\n",
    "odd_numbers = [num for num in range(1, 401) if num % 2 != 0 and num % 7 == 0 and num % 5 != 0]\n",
    "print(odd_numbers)"
   ]
  },
  {
   "cell_type": "code",
   "execution_count": 74,
   "id": "1cc1b197",
   "metadata": {
    "scrolled": true
   },
   "outputs": [
    {
     "name": "stdout",
     "output_type": "stream",
     "text": [
      "['qwe', 'are']\n",
      "['qwe', 'are']\n"
     ]
    }
   ],
   "source": [
    "# Using comprehension, find all of the words in a string that have less than 5 letters\n",
    "\n",
    "\n",
    "str=\"qwe qwrwscdc oknsd are owdncjwdkv owidfnweok oiwdnc klamc oasknfqeoi xzkfdnfpm\"\n",
    "str=[i for i in str.split(\" \") if(len(i)<5)]\n",
    "print(str)"
   ]
  },
  {
   "cell_type": "code",
   "execution_count": 81,
   "id": "2550422f",
   "metadata": {},
   "outputs": [
    {
     "name": "stdout",
     "output_type": "stream",
     "text": [
      "['10.0.0.1']\n"
     ]
    }
   ],
   "source": [
    "# Given an input list of ip addresses. Extract the ip addresses corresponding to class A. The output should be in a list. Consider the input having valid ips\n",
    "\n",
    "\n",
    "\n",
    "ips = [\"192.168.0.1\", \"10.0.0.1\", \"172.16.0.1\", \"130.45.67.89\"]\n",
    "lst_ips = []\n",
    "for i in ips:\n",
    "    k= int(i.split('.')[0])\n",
    "    if 1 <= k<= 126:\n",
    "        lst_ips.append(i)\n",
    "print(lst_ips)\n"
   ]
  },
  {
   "cell_type": "code",
   "execution_count": 6,
   "id": "41045b35",
   "metadata": {},
   "outputs": [
    {
     "name": "stdout",
     "output_type": "stream",
     "text": [
      "343\n",
      "string\n",
      "[123, 'string', True, False]\n"
     ]
    }
   ],
   "source": [
    "a=343\n",
    "print(a)\n",
    "a=\"string\"\n",
    "print(a)\n",
    "\n",
    "a=[123,\"string\",True,False]\n",
    "print(a)"
   ]
  },
  {
   "cell_type": "code",
   "execution_count": 18,
   "id": "8a8364c6",
   "metadata": {},
   "outputs": [
    {
     "name": "stdout",
     "output_type": "stream",
     "text": [
      "tring\n"
     ]
    }
   ],
   "source": [
    "# a=[123,\"string\",True,False]\n",
    "# print(a)\n",
    "# a[0]=True\n",
    "# print(a)\n",
    "\n",
    "\n",
    "# a=\"string\"\n",
    "# # a[start:end:jump]\n",
    "# print(a[1:6])\n",
    "# # print(len(a))\n"
   ]
  },
  {
   "cell_type": "code",
   "execution_count": 42,
   "id": "00698a20",
   "metadata": {},
   "outputs": [
    {
     "name": "stdout",
     "output_type": "stream",
     "text": [
      "23\n"
     ]
    }
   ],
   "source": [
    "# b=\"character\"\n",
    "# print(b[1:-3])\n",
    "\n",
    "\n",
    "print(\"2\"+\"3\")"
   ]
  },
  {
   "cell_type": "code",
   "execution_count": 64,
   "id": "f385624d",
   "metadata": {},
   "outputs": [
    {
     "name": "stdout",
     "output_type": "stream",
     "text": [
      "a quick brown fox\n"
     ]
    }
   ],
   "source": [
    "name=\"a quick grey fox\"\n",
    "s=\"brown\"\n",
    "a=(name[:8])\n",
    "b=name[12:]\n",
    "print(a+s+b)\n"
   ]
  },
  {
   "cell_type": "code",
   "execution_count": 70,
   "id": "6b5e80c9",
   "metadata": {},
   "outputs": [
    {
     "name": "stdout",
     "output_type": "stream",
     "text": [
      "hello my name is aanchal\n",
      "hello my name is aanchal\n",
      "hello my name is aanchal\n"
     ]
    }
   ],
   "source": [
    "a=\"aanchal\"\n",
    "x=\"name\"\n",
    "print(\"hello my \"+x+\" is \"+a)   #string concatination\n",
    "print(\"hello my {} is {}\".format(x,a)) #string format\n",
    "print(f\"hello my {x} is {a}\")     #F STRING "
   ]
  },
  {
   "cell_type": "code",
   "execution_count": 75,
   "id": "96d1342e",
   "metadata": {},
   "outputs": [
    {
     "name": "stdout",
     "output_type": "stream",
     "text": [
      "a quick grey fox jumps over\n",
      "a quick grey fox jumps over \n",
      "a quick grey fox jumps over \n"
     ]
    }
   ],
   "source": [
    "# a quick grey fox jumps over\n",
    "a=\"quick\"\n",
    "b=\"fox\"\n",
    "c=\"over\"\n",
    "print(\"a \"+a+\" grey \"+b+\" jumps \"+c)\n",
    "print(f\"a {a} grey {b} jumps {c} \")\n",
    "print(\"a {} grey {} jumps {} \".format(a,b,c))\n"
   ]
  },
  {
   "cell_type": "code",
   "execution_count": 77,
   "id": "80e43fb6",
   "metadata": {},
   "outputs": [
    {
     "name": "stdout",
     "output_type": "stream",
     "text": [
      "['two', 'three', 'four']\n"
     ]
    }
   ],
   "source": [
    "lst=[\"one\",\"two\",\"three\",\"four\",\"five\"]\n",
    "print(lst[1:4])\n"
   ]
  },
  {
   "cell_type": "code",
   "execution_count": 80,
   "id": "d5f5b208",
   "metadata": {},
   "outputs": [
    {
     "name": "stdout",
     "output_type": "stream",
     "text": [
      "[0, 1, 2, 3, 4]\n"
     ]
    }
   ],
   "source": [
    "lst=[1,2,3,4]\n",
    "a=[0]\n",
    "print(a+lst)"
   ]
  },
  {
   "cell_type": "code",
   "execution_count": 86,
   "id": "9bfe7bb0",
   "metadata": {},
   "outputs": [
    {
     "name": "stdout",
     "output_type": "stream",
     "text": [
      "[1, 2]\n"
     ]
    }
   ],
   "source": [
    "\n",
    "lst=[1,2,3,4]\n",
    "lst.pop()\n",
    "lst.pop()\n",
    "print(lst)"
   ]
  },
  {
   "cell_type": "code",
   "execution_count": 87,
   "id": "5b918c25",
   "metadata": {},
   "outputs": [
    {
     "name": "stdout",
     "output_type": "stream",
     "text": [
      "[1, 2, 4, 7, 9]\n"
     ]
    }
   ],
   "source": [
    "lst=[4,7,2,9,1]\n",
    "lst.sort()\n",
    "print(lst)"
   ]
  },
  {
   "cell_type": "code",
   "execution_count": 90,
   "id": "47321373",
   "metadata": {},
   "outputs": [
    {
     "name": "stdout",
     "output_type": "stream",
     "text": [
      "['a', 'b', 'c', 'd']\n"
     ]
    }
   ],
   "source": [
    "s=[\"a\",\"c\",\"d\",\"b\"]\n",
    "s.sort()\n",
    "print(s)"
   ]
  },
  {
   "cell_type": "code",
   "execution_count": 91,
   "id": "48ea0c20",
   "metadata": {},
   "outputs": [
    {
     "name": "stdout",
     "output_type": "stream",
     "text": [
      "['d', 'c', 'b', 'a']\n"
     ]
    }
   ],
   "source": [
    "s.reverse()\n",
    "print(s)"
   ]
  },
  {
   "cell_type": "code",
   "execution_count": 92,
   "id": "ed7ea975",
   "metadata": {},
   "outputs": [
    {
     "name": "stdout",
     "output_type": "stream",
     "text": [
      "[9, 7, 4, 2, 1]\n"
     ]
    }
   ],
   "source": [
    "lst.reverse()\n",
    "print(lst)"
   ]
  },
  {
   "cell_type": "code",
   "execution_count": 96,
   "id": "94e9b1cd",
   "metadata": {},
   "outputs": [
    {
     "name": "stdout",
     "output_type": "stream",
     "text": [
      "Aanchal\n"
     ]
    }
   ],
   "source": [
    "a=\"aanchal\"\n",
    "a.upper()\n",
    "print(a.capitalize())"
   ]
  },
  {
   "cell_type": "code",
   "execution_count": 106,
   "id": "5861a2c5",
   "metadata": {},
   "outputs": [
    {
     "name": "stdout",
     "output_type": "stream",
     "text": [
      "{1: 'one', 2: 'two', 3: 'three'}\n"
     ]
    }
   ],
   "source": [
    "dic={1:\"one\",2:\"two\",3:\"three\"}\n",
    "print( dic)"
   ]
  },
  {
   "cell_type": "code",
   "execution_count": 107,
   "id": "2741aea9",
   "metadata": {},
   "outputs": [
    {
     "name": "stdout",
     "output_type": "stream",
     "text": [
      "three\n"
     ]
    }
   ],
   "source": [
    "print(dic[3])"
   ]
  },
  {
   "cell_type": "code",
   "execution_count": 111,
   "id": "013f0d22",
   "metadata": {},
   "outputs": [
    {
     "name": "stdout",
     "output_type": "stream",
     "text": [
      "jasmine\n"
     ]
    }
   ],
   "source": [
    "dic2={1:\"Aanchal\",2:\"akshit\",3:\"jasmine\"}\n",
    "print(dic2[3])"
   ]
  },
  {
   "cell_type": "code",
   "execution_count": 126,
   "id": "33fd7e5b",
   "metadata": {},
   "outputs": [],
   "source": [
    "dic={1:\"one\",\"2\":4,3:[\"j\",\"s\",\"f\"]}\n"
   ]
  },
  {
   "cell_type": "code",
   "execution_count": 132,
   "id": "fa2d7661",
   "metadata": {},
   "outputs": [
    {
     "name": "stdout",
     "output_type": "stream",
     "text": [
      "{1: 'one', '2': 4, 3: ['f', 'j', 's']}\n",
      "['f', 'j', 's']\n",
      "j\n"
     ]
    }
   ],
   "source": [
    "dic[3].sort()\n",
    "print(dic)\n",
    "d=(dic[3])\n",
    "print(d)\n",
    "print(d[1])\n",
    "\n",
    "\n"
   ]
  },
  {
   "cell_type": "code",
   "execution_count": 136,
   "id": "7dbe41f5",
   "metadata": {},
   "outputs": [
    {
     "name": "stdout",
     "output_type": "stream",
     "text": [
      "3\n"
     ]
    }
   ],
   "source": [
    "dic={1:\"one\",\"2\":4,3:[\"j\",\"s\",\"f\"]}\n",
    "x=(dic[3])\n",
    "print(len(dic[3]))\n"
   ]
  },
  {
   "cell_type": "code",
   "execution_count": 139,
   "id": "4838b254",
   "metadata": {},
   "outputs": [
    {
     "name": "stdout",
     "output_type": "stream",
     "text": [
      "{1: 'one', '2': 4, 3: ['j', 's', 'f'], 4: True}\n",
      "{1: 'one', '2': 4, 3: ['j', 's', 'f'], 4: False}\n"
     ]
    }
   ],
   "source": [
    "dic={1:\"one\",\"2\":4,3:[\"j\",\"s\",\"f\"]}\n",
    "\n",
    "dic[4]= True\n",
    "print(dic)\n",
    "dic[4]=False\n",
    "print(dic)\n"
   ]
  },
  {
   "cell_type": "code",
   "execution_count": 1,
   "id": "f66fa505",
   "metadata": {},
   "outputs": [
    {
     "name": "stdout",
     "output_type": "stream",
     "text": [
      "dict_keys([1, '2', 3, 4])\n",
      "dict_values(['one', 4, ['j', 's', 'f'], False])\n",
      "dict_items([(1, 'one'), ('2', 4), (3, ['j', 's', 'f']), (4, False)])\n"
     ]
    }
   ],
   "source": [
    "dic={1:\"one\",\"2\":4,3:[\"j\",\"s\",\"f\"]}\n",
    "dic[4]=False\n",
    "y=dic.keys()\n",
    "print(y)\n",
    "d=dic.values()\n",
    "print(d)\n",
    "k=dic.items()\n",
    "print(k)"
   ]
  },
  {
   "cell_type": "code",
   "execution_count": 15,
   "id": "3c3c2462",
   "metadata": {},
   "outputs": [
    {
     "name": "stdout",
     "output_type": "stream",
     "text": [
      "6\n"
     ]
    },
    {
     "data": {
      "text/plain": [
       "1"
      ]
     },
     "execution_count": 15,
     "metadata": {},
     "output_type": "execute_result"
    }
   ],
   "source": [
    "t=(2,6,5,6,7,8)\n",
    "h=len(t)\n",
    "print(h)\n",
    "t.count(6)\n",
    "t.index(6)"
   ]
  },
  {
   "cell_type": "code",
   "execution_count": 20,
   "id": "e4db8ac2",
   "metadata": {},
   "outputs": [
    {
     "name": "stdout",
     "output_type": "stream",
     "text": [
      "{'abc'}\n",
      "{'abc', 'pqr', 'xyz'}\n",
      "{'abc', 'pqr'}\n"
     ]
    }
   ],
   "source": [
    "y=set()\n",
    "y.add(\"abc\")\n",
    "print(y)\n",
    "y.add(\"xyz\")\n",
    "y.add(\"pqr\")\n",
    "print(y)\n",
    "y.remove(\"xyz\")\n",
    "print(y)\n"
   ]
  },
  {
   "cell_type": "code",
   "execution_count": 49,
   "id": "fa879b3b",
   "metadata": {},
   "outputs": [
    {
     "name": "stdout",
     "output_type": "stream",
     "text": [
      "enter  emailakshit@gmail.com\n",
      "akshit01@gmail.com\n"
     ]
    }
   ],
   "source": [
    "a=input(\"enter  email\")\n",
    "c=a.split(\"@\")\n",
    "print(f\"{c[0]}01@{c[1]}\")"
   ]
  },
  {
   "cell_type": "code",
   "execution_count": 55,
   "id": "b1c18fc6",
   "metadata": {},
   "outputs": [
    {
     "name": "stdout",
     "output_type": "stream",
     "text": [
      "day 01 /nmonth 07 /nyear 1986\n"
     ]
    }
   ],
   "source": [
    "a=\"01/07/1986\"\n",
    "d=(a.split(\"/\"))\n",
    "print(f\"day {d[0]} /nmonth {d[1]} /nyear {d[2]}\")"
   ]
  },
  {
   "cell_type": "code",
   "execution_count": 57,
   "id": "ddd1b01d",
   "metadata": {},
   "outputs": [],
   "source": [
    "1<2\n",
    "a=None"
   ]
  },
  {
   "cell_type": "code",
   "execution_count": 102,
   "id": "f0a4d2d0",
   "metadata": {},
   "outputs": [
    {
     "name": "stdout",
     "output_type": "stream",
     "text": [
      "Overwriting one.txt\n"
     ]
    }
   ],
   "source": [
    "%%writefile one.txt\n",
    "helloworld"
   ]
  },
  {
   "cell_type": "code",
   "execution_count": 103,
   "id": "22c0c430",
   "metadata": {},
   "outputs": [],
   "source": [
    "doc=open('one.txt')"
   ]
  },
  {
   "cell_type": "code",
   "execution_count": 67,
   "id": "ab357c40",
   "metadata": {},
   "outputs": [
    {
     "data": {
      "text/plain": [
       "'helloworld\\n'"
      ]
     },
     "execution_count": 67,
     "metadata": {},
     "output_type": "execute_result"
    }
   ],
   "source": [
    "doc.read()"
   ]
  },
  {
   "cell_type": "code",
   "execution_count": 78,
   "id": "32444d0e",
   "metadata": {},
   "outputs": [
    {
     "data": {
      "text/plain": [
       "0"
      ]
     },
     "execution_count": 78,
     "metadata": {},
     "output_type": "execute_result"
    }
   ],
   "source": [
    "doc.seek(0)"
   ]
  },
  {
   "cell_type": "code",
   "execution_count": 70,
   "id": "9ef840dc",
   "metadata": {},
   "outputs": [
    {
     "ename": "UnsupportedOperation",
     "evalue": "not writable",
     "output_type": "error",
     "traceback": [
      "\u001b[0;31m---------------------------------------------------------------------------\u001b[0m",
      "\u001b[0;31mUnsupportedOperation\u001b[0m                      Traceback (most recent call last)",
      "Input \u001b[0;32mIn [70]\u001b[0m, in \u001b[0;36m<cell line: 1>\u001b[0;34m()\u001b[0m\n\u001b[0;32m----> 1\u001b[0m \u001b[43mdoc\u001b[49m\u001b[38;5;241;43m.\u001b[39;49m\u001b[43mwrite\u001b[49m\u001b[43m(\u001b[49m\u001b[38;5;124;43m\"\u001b[39;49m\u001b[38;5;124;43mname\u001b[39;49m\u001b[38;5;124;43m\"\u001b[39;49m\u001b[43m)\u001b[49m\n",
      "\u001b[0;31mUnsupportedOperation\u001b[0m: not writable"
     ]
    }
   ],
   "source": [
    "doc.write(\"name\")"
   ]
  },
  {
   "cell_type": "code",
   "execution_count": 124,
   "id": "c7b79a84",
   "metadata": {},
   "outputs": [],
   "source": [
    "doc.close()"
   ]
  },
  {
   "cell_type": "code",
   "execution_count": 72,
   "id": "d327cd42",
   "metadata": {},
   "outputs": [
    {
     "ename": "ValueError",
     "evalue": "I/O operation on closed file.",
     "output_type": "error",
     "traceback": [
      "\u001b[0;31m---------------------------------------------------------------------------\u001b[0m",
      "\u001b[0;31mValueError\u001b[0m                                Traceback (most recent call last)",
      "Input \u001b[0;32mIn [72]\u001b[0m, in \u001b[0;36m<cell line: 1>\u001b[0;34m()\u001b[0m\n\u001b[0;32m----> 1\u001b[0m \u001b[43mdoc\u001b[49m\u001b[38;5;241;43m.\u001b[39;49m\u001b[43mread\u001b[49m\u001b[43m(\u001b[49m\u001b[43m)\u001b[49m\n",
      "\u001b[0;31mValueError\u001b[0m: I/O operation on closed file."
     ]
    }
   ],
   "source": [
    "doc.read()"
   ]
  },
  {
   "cell_type": "code",
   "execution_count": 110,
   "id": "a563f7d2",
   "metadata": {},
   "outputs": [
    {
     "data": {
      "text/plain": [
       "''"
      ]
     },
     "execution_count": 110,
     "metadata": {},
     "output_type": "execute_result"
    }
   ],
   "source": [
    "doc=open('one.txt','r+')\n",
    "doc.seek(0)\n",
    "doc.read()\n",
    "# doc.seek(0)\n",
    "doc.write(\"hello\")\n",
    "doc.read()\n",
    "# doc.read()\n",
    "# doc.close()"
   ]
  },
  {
   "cell_type": "code",
   "execution_count": 4,
   "id": "7f0a26e6",
   "metadata": {},
   "outputs": [
    {
     "name": "stdout",
     "output_type": "stream",
     "text": [
      "Writing groot.txt\n"
     ]
    }
   ],
   "source": [
    "%%writefile groot.txt\n",
    " "
   ]
  },
  {
   "cell_type": "code",
   "execution_count": 22,
   "id": "f9e405f4",
   "metadata": {},
   "outputs": [
    {
     "name": "stdout",
     "output_type": "stream",
     "text": [
      "\n",
      "6\n"
     ]
    }
   ],
   "source": [
    "with open('groot.txt',mode='w+')as z:\n",
    "    print(z.read())\n",
    "    print(z.write(\"akshit\"))"
   ]
  },
  {
   "cell_type": "code",
   "execution_count": 21,
   "id": "a724f9b2",
   "metadata": {},
   "outputs": [
    {
     "name": "stdout",
     "output_type": "stream",
     "text": [
      "kathuriaathuriaakshit\n"
     ]
    }
   ],
   "source": [
    "with open('groot.txt',mode='r')as z:\n",
    "    print(z.read())\n",
    "    \n"
   ]
  },
  {
   "cell_type": "code",
   "execution_count": null,
   "id": "f11c1fc5",
   "metadata": {},
   "outputs": [],
   "source": []
  },
  {
   "cell_type": "code",
   "execution_count": null,
   "id": "e3d0bb11",
   "metadata": {},
   "outputs": [],
   "source": []
  },
  {
   "cell_type": "code",
   "execution_count": null,
   "id": "9244354d",
   "metadata": {},
   "outputs": [],
   "source": []
  },
  {
   "cell_type": "code",
   "execution_count": null,
   "id": "8802ad03",
   "metadata": {},
   "outputs": [],
   "source": []
  },
  {
   "cell_type": "code",
   "execution_count": null,
   "id": "6ad1c331",
   "metadata": {},
   "outputs": [],
   "source": []
  }
 ],
 "metadata": {
  "kernelspec": {
   "display_name": "Python 3 (ipykernel)",
   "language": "python",
   "name": "python3"
  },
  "language_info": {
   "codemirror_mode": {
    "name": "ipython",
    "version": 3
   },
   "file_extension": ".py",
   "mimetype": "text/x-python",
   "name": "python",
   "nbconvert_exporter": "python",
   "pygments_lexer": "ipython3",
   "version": "3.9.12"
  }
 },
 "nbformat": 4,
 "nbformat_minor": 5
}
